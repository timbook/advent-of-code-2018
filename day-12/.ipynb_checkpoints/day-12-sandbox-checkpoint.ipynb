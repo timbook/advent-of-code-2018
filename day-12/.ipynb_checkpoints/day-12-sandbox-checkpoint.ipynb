{
 "cells": [
  {
   "cell_type": "code",
   "execution_count": 1,
   "metadata": {},
   "outputs": [
    {
     "data": {
      "text/plain": [
       "\u001b[32mimport \u001b[39m\u001b[36mscala.io.Source\u001b[39m"
      ]
     },
     "execution_count": 1,
     "metadata": {},
     "output_type": "execute_result"
    }
   ],
   "source": [
    "import scala.io.Source"
   ]
  },
  {
   "cell_type": "code",
   "execution_count": 56,
   "metadata": {},
   "outputs": [
    {
     "data": {
      "text/plain": [
       "\u001b[36mlines\u001b[39m: \u001b[32mArray\u001b[39m[\u001b[32mString\u001b[39m] = \u001b[33mArray\u001b[39m(\n",
       "  \u001b[32m\"initial state: ##..##....#.#.####........##.#.#####.##..#.#..#.#...##.#####.###.##...#....##....#..###.#...#.#.#.#\"\u001b[39m,\n",
       "  \u001b[32m\"\"\u001b[39m,\n",
       "  \u001b[32m\"##.#. => .\"\u001b[39m,\n",
       "  \u001b[32m\"##.## => .\"\u001b[39m,\n",
       "  \u001b[32m\"#..## => .\"\u001b[39m,\n",
       "  \u001b[32m\"#.#.# => .\"\u001b[39m,\n",
       "  \u001b[32m\"..#.. => #\"\u001b[39m,\n",
       "  \u001b[32m\"#.##. => .\"\u001b[39m,\n",
       "  \u001b[32m\"##... => #\"\u001b[39m,\n",
       "  \u001b[32m\".#..# => .\"\u001b[39m,\n",
       "  \u001b[32m\"#.### => .\"\u001b[39m,\n",
       "  \u001b[32m\"..... => .\"\u001b[39m,\n",
       "  \u001b[32m\"...#. => #\"\u001b[39m,\n",
       "  \u001b[32m\"#..#. => #\"\u001b[39m,\n",
       "  \u001b[32m\"###.. => #\"\u001b[39m,\n",
       "  \u001b[32m\".#... => #\"\u001b[39m,\n",
       "  \u001b[32m\"###.# => #\"\u001b[39m,\n",
       "  \u001b[32m\"####. => .\"\u001b[39m,\n",
       "  \u001b[32m\".##.# => #\"\u001b[39m,\n",
       "  \u001b[32m\"#.#.. => #\"\u001b[39m,\n",
       "  \u001b[32m\".###. => #\"\u001b[39m,\n",
       "  \u001b[32m\".#.## => .\"\u001b[39m,\n",
       "  \u001b[32m\"##### => #\"\u001b[39m,\n",
       "  \u001b[32m\"....# => .\"\u001b[39m,\n",
       "  \u001b[32m\".#### => .\"\u001b[39m,\n",
       "  \u001b[32m\".##.. => #\"\u001b[39m,\n",
       "  \u001b[32m\"##..# => .\"\u001b[39m,\n",
       "  \u001b[32m\"#...# => .\"\u001b[39m,\n",
       "  \u001b[32m\"..### => #\"\u001b[39m,\n",
       "  \u001b[32m\"...## => .\"\u001b[39m,\n",
       "  \u001b[32m\"#.... => .\"\u001b[39m,\n",
       "  \u001b[32m\"..##. => .\"\u001b[39m,\n",
       "  \u001b[32m\".#.#. => #\"\u001b[39m,\n",
       "  \u001b[32m\"..#.# => #\"\u001b[39m\n",
       ")\n",
       "\u001b[36minitState\u001b[39m: \u001b[32mMap\u001b[39m[\u001b[32mInt\u001b[39m, \u001b[32mString\u001b[39m] = \u001b[33mMap\u001b[39m(\n",
       "  \u001b[32m69\u001b[39m -> \u001b[32m\".\"\u001b[39m,\n",
       "  \u001b[32m0\u001b[39m -> \u001b[32m\"#\"\u001b[39m,\n",
       "  \u001b[32m88\u001b[39m -> \u001b[32m\"#\"\u001b[39m,\n",
       "  \u001b[32m5\u001b[39m -> \u001b[32m\"#\"\u001b[39m,\n",
       "  \u001b[32m10\u001b[39m -> \u001b[32m\"#\"\u001b[39m,\n",
       "  \u001b[32m56\u001b[39m -> \u001b[32m\"#\"\u001b[39m,\n",
       "  \u001b[32m42\u001b[39m -> \u001b[32m\".\"\u001b[39m,\n",
       "  \u001b[32m24\u001b[39m -> \u001b[32m\".\"\u001b[39m,\n",
       "  \u001b[32m37\u001b[39m -> \u001b[32m\"#\"\u001b[39m,\n",
       "  \u001b[32m25\u001b[39m -> \u001b[32m\".\"\u001b[39m,\n",
       "  \u001b[32m52\u001b[39m -> \u001b[32m\"#\"\u001b[39m,\n",
       "  \u001b[32m14\u001b[39m -> \u001b[32m\"#\"\u001b[39m,\n",
       "  \u001b[32m20\u001b[39m -> \u001b[32m\".\"\u001b[39m,\n",
       "  \u001b[32m46\u001b[39m -> \u001b[32m\"#\"\u001b[39m,\n",
       "  \u001b[32m93\u001b[39m -> \u001b[32m\".\"\u001b[39m,\n",
       "  \u001b[32m57\u001b[39m -> \u001b[32m\"#\"\u001b[39m,\n",
       "  \u001b[32m78\u001b[39m -> \u001b[32m\".\"\u001b[39m,\n",
       "  \u001b[32m29\u001b[39m -> \u001b[32m\"#\"\u001b[39m,\n",
       "  \u001b[32m84\u001b[39m -> \u001b[32m\"#\"\u001b[39m,\n",
       "  \u001b[32m61\u001b[39m -> \u001b[32m\"#\"\u001b[39m,\n",
       "  \u001b[32m89\u001b[39m -> \u001b[32m\".\"\u001b[39m,\n",
       "  \u001b[32m1\u001b[39m -> \u001b[32m\"#\"\u001b[39m,\n",
       "  \u001b[32m74\u001b[39m -> \u001b[32m\".\"\u001b[39m,\n",
       "  \u001b[32m6\u001b[39m -> \u001b[32m\".\"\u001b[39m,\n",
       "  \u001b[32m60\u001b[39m -> \u001b[32m\".\"\u001b[39m,\n",
       "  \u001b[32m85\u001b[39m -> \u001b[32m\"#\"\u001b[39m,\n",
       "  \u001b[32m28\u001b[39m -> \u001b[32m\".\"\u001b[39m,\n",
       "  \u001b[32m38\u001b[39m -> \u001b[32m\"#\"\u001b[39m,\n",
       "  \u001b[32m70\u001b[39m -> \u001b[32m\"#\"\u001b[39m,\n",
       "  \u001b[32m21\u001b[39m -> \u001b[32m\".\"\u001b[39m,\n",
       "  \u001b[32m33\u001b[39m -> \u001b[32m\"#\"\u001b[39m,\n",
       "  \u001b[32m92\u001b[39m -> \u001b[32m\"#\"\u001b[39m,\n",
       "  \u001b[32m65\u001b[39m -> \u001b[32m\"#\"\u001b[39m,\n",
       "  \u001b[32m97\u001b[39m -> \u001b[32m\".\"\u001b[39m,\n",
       "  \u001b[32m9\u001b[39m -> \u001b[32m\".\"\u001b[39m,\n",
       "  \u001b[32m53\u001b[39m -> \u001b[32m\"#\"\u001b[39m,\n",
       "  \u001b[32m77\u001b[39m -> \u001b[32m\".\"\u001b[39m,\n",
       "  \u001b[32m96\u001b[39m -> \u001b[32m\"#\"\u001b[39m,\n",
       "...\n",
       "\u001b[36mrules\u001b[39m: \u001b[32mMap\u001b[39m[\u001b[32mString\u001b[39m, \u001b[32mString\u001b[39m] = \u001b[33mMap\u001b[39m(\n",
       "  \u001b[32m\"#.###\"\u001b[39m -> \u001b[32m\".\"\u001b[39m,\n",
       "  \u001b[32m\".###.\"\u001b[39m -> \u001b[32m\"#\"\u001b[39m,\n",
       "  \u001b[32m\"#.#.#\"\u001b[39m -> \u001b[32m\".\"\u001b[39m,\n",
       "  \u001b[32m\"###.#\"\u001b[39m -> \u001b[32m\"#\"\u001b[39m,\n",
       "  \u001b[32m\"#####\"\u001b[39m -> \u001b[32m\"#\"\u001b[39m,\n",
       "  \u001b[32m\"##.#.\"\u001b[39m -> \u001b[32m\".\"\u001b[39m,\n",
       "  \u001b[32m\".#..#\"\u001b[39m -> \u001b[32m\".\"\u001b[39m,\n",
       "  \u001b[32m\"..#..\"\u001b[39m -> \u001b[32m\"#\"\u001b[39m,\n",
       "  \u001b[32m\"..##.\"\u001b[39m -> \u001b[32m\".\"\u001b[39m,\n",
       "  \u001b[32m\"....#\"\u001b[39m -> \u001b[32m\".\"\u001b[39m,\n",
       "  \u001b[32m\"#..##\"\u001b[39m -> \u001b[32m\".\"\u001b[39m,\n",
       "  \u001b[32m\"#....\"\u001b[39m -> \u001b[32m\".\"\u001b[39m,\n",
       "  \u001b[32m\"####.\"\u001b[39m -> \u001b[32m\".\"\u001b[39m,\n",
       "  \u001b[32m\".#.#.\"\u001b[39m -> \u001b[32m\"#\"\u001b[39m,\n",
       "  \u001b[32m\"#.##.\"\u001b[39m -> \u001b[32m\".\"\u001b[39m,\n",
       "  \u001b[32m\"##.##\"\u001b[39m -> \u001b[32m\".\"\u001b[39m,\n",
       "  \u001b[32m\".##..\"\u001b[39m -> \u001b[32m\"#\"\u001b[39m,\n",
       "  \u001b[32m\"##...\"\u001b[39m -> \u001b[32m\"#\"\u001b[39m,\n",
       "  \u001b[32m\".##.#\"\u001b[39m -> \u001b[32m\"#\"\u001b[39m,\n",
       "  \u001b[32m\".#.##\"\u001b[39m -> \u001b[32m\".\"\u001b[39m,\n",
       "  \u001b[32m\"..###\"\u001b[39m -> \u001b[32m\"#\"\u001b[39m,\n",
       "  \u001b[32m\".####\"\u001b[39m -> \u001b[32m\".\"\u001b[39m,\n",
       "  \u001b[32m\".....\"\u001b[39m -> \u001b[32m\".\"\u001b[39m,\n",
       "  \u001b[32m\".#...\"\u001b[39m -> \u001b[32m\"#\"\u001b[39m,\n",
       "  \u001b[32m\"...##\"\u001b[39m -> \u001b[32m\".\"\u001b[39m,\n",
       "  \u001b[32m\"...#.\"\u001b[39m -> \u001b[32m\"#\"\u001b[39m,\n",
       "  \u001b[32m\"###..\"\u001b[39m -> \u001b[32m\"#\"\u001b[39m,\n",
       "  \u001b[32m\"..#.#\"\u001b[39m -> \u001b[32m\"#\"\u001b[39m,\n",
       "  \u001b[32m\"#.#..\"\u001b[39m -> \u001b[32m\"#\"\u001b[39m,\n",
       "  \u001b[32m\"#..#.\"\u001b[39m -> \u001b[32m\"#\"\u001b[39m,\n",
       "  \u001b[32m\"##..#\"\u001b[39m -> \u001b[32m\".\"\u001b[39m,\n",
       "  \u001b[32m\"#...#\"\u001b[39m -> \u001b[32m\".\"\u001b[39m\n",
       ")"
      ]
     },
     "execution_count": 56,
     "metadata": {},
     "output_type": "execute_result"
    }
   ],
   "source": [
    "val lines = Source.fromFile(\"../data/12-input.txt\").getLines.toArray\n",
    "\n",
    "var initState = lines(0).split(\" \").last\n",
    "    .zipWithIndex\n",
    "    .map(t => t._2 -> t._1.toString)\n",
    "    .toMap\n",
    "\n",
    "val rules = lines\n",
    "    .drop(2)\n",
    "    .map(s => s.split(\" => \"))\n",
    "    .map(t => t(0) -> t(1))\n",
    "    .toMap"
   ]
  },
  {
   "cell_type": "code",
   "execution_count": 57,
   "metadata": {},
   "outputs": [
    {
     "data": {
      "text/plain": [
       "defined \u001b[32mfunction\u001b[39m \u001b[36mgetLayout\u001b[39m\n",
       "defined \u001b[32mfunction\u001b[39m \u001b[36msimGeneration\u001b[39m\n",
       "defined \u001b[32mfunction\u001b[39m \u001b[36mcountPlants\u001b[39m"
      ]
     },
     "execution_count": 57,
     "metadata": {},
     "output_type": "execute_result"
    }
   ],
   "source": [
    "def getLayout(n: Int) = ((n - 2) to (n + 2)).map(state.getOrElse(_, \".\")).mkString\n",
    "\n",
    "def simGeneration(state: Map[Int, String]) = {\n",
    "    val minPot = state.keys.min\n",
    "    val maxPot = state.keys.max\n",
    "    \n",
    "    val stateWider = state ++ List(\n",
    "        (minPot - 2 -> \".\"),\n",
    "        (minPot - 1 -> \".\"),\n",
    "        (maxPot + 1 -> \".\"),\n",
    "        (maxPot + 2 -> \".\")\n",
    "    )\n",
    "\n",
    "    stateWider\n",
    "        .map(t => t._1 -> getLayout(t._1))\n",
    "        .map(t => t._1 -> rules(t._2))\n",
    "}\n",
    "\n",
    "def countPlants(state: Map[Int, String]) = state.map(t => if (t._2 == \"#\") t._1 else 0).sum"
   ]
  },
  {
   "cell_type": "code",
   "execution_count": 58,
   "metadata": {},
   "outputs": [
    {
     "data": {
      "text/plain": [
       "\u001b[36mstate\u001b[39m: \u001b[32mMap\u001b[39m[\u001b[32mInt\u001b[39m, \u001b[32mString\u001b[39m] = \u001b[33mMap\u001b[39m(\n",
       "  \u001b[32m69\u001b[39m -> \u001b[32m\".\"\u001b[39m,\n",
       "  \u001b[32m-32\u001b[39m -> \u001b[32m\".\"\u001b[39m,\n",
       "  \u001b[32m138\u001b[39m -> \u001b[32m\".\"\u001b[39m,\n",
       "  \u001b[32m101\u001b[39m -> \u001b[32m\".\"\u001b[39m,\n",
       "  \u001b[32m0\u001b[39m -> \u001b[32m\".\"\u001b[39m,\n",
       "  \u001b[32m88\u001b[39m -> \u001b[32m\".\"\u001b[39m,\n",
       "  \u001b[32m115\u001b[39m -> \u001b[32m\"#\"\u001b[39m,\n",
       "  \u001b[32m-27\u001b[39m -> \u001b[32m\".\"\u001b[39m,\n",
       "  \u001b[32m5\u001b[39m -> \u001b[32m\"#\"\u001b[39m,\n",
       "  \u001b[32m120\u001b[39m -> \u001b[32m\"#\"\u001b[39m,\n",
       "  \u001b[32m10\u001b[39m -> \u001b[32m\".\"\u001b[39m,\n",
       "  \u001b[32m56\u001b[39m -> \u001b[32m\"#\"\u001b[39m,\n",
       "  \u001b[32m42\u001b[39m -> \u001b[32m\"#\"\u001b[39m,\n",
       "  \u001b[32m-7\u001b[39m -> \u001b[32m\".\"\u001b[39m,\n",
       "  \u001b[32m24\u001b[39m -> \u001b[32m\"#\"\u001b[39m,\n",
       "  \u001b[32m-39\u001b[39m -> \u001b[32m\".\"\u001b[39m,\n",
       "  \u001b[32m-22\u001b[39m -> \u001b[32m\".\"\u001b[39m,\n",
       "  \u001b[32m37\u001b[39m -> \u001b[32m\".\"\u001b[39m,\n",
       "  \u001b[32m25\u001b[39m -> \u001b[32m\".\"\u001b[39m,\n",
       "  \u001b[32m52\u001b[39m -> \u001b[32m\".\"\u001b[39m,\n",
       "  \u001b[32m14\u001b[39m -> \u001b[32m\"#\"\u001b[39m,\n",
       "  \u001b[32m110\u001b[39m -> \u001b[32m\"#\"\u001b[39m,\n",
       "  \u001b[32m125\u001b[39m -> \u001b[32m\".\"\u001b[39m,\n",
       "  \u001b[32m-8\u001b[39m -> \u001b[32m\".\"\u001b[39m,\n",
       "  \u001b[32m-40\u001b[39m -> \u001b[32m\".\"\u001b[39m,\n",
       "  \u001b[32m20\u001b[39m -> \u001b[32m\"#\"\u001b[39m,\n",
       "  \u001b[32m46\u001b[39m -> \u001b[32m\".\"\u001b[39m,\n",
       "  \u001b[32m93\u001b[39m -> \u001b[32m\".\"\u001b[39m,\n",
       "  \u001b[32m-3\u001b[39m -> \u001b[32m\".\"\u001b[39m,\n",
       "  \u001b[32m-18\u001b[39m -> \u001b[32m\".\"\u001b[39m,\n",
       "  \u001b[32m-35\u001b[39m -> \u001b[32m\".\"\u001b[39m,\n",
       "  \u001b[32m57\u001b[39m -> \u001b[32m\"#\"\u001b[39m,\n",
       "  \u001b[32m78\u001b[39m -> \u001b[32m\"#\"\u001b[39m,\n",
       "  \u001b[32m29\u001b[39m -> \u001b[32m\"#\"\u001b[39m,\n",
       "  \u001b[32m106\u001b[39m -> \u001b[32m\".\"\u001b[39m,\n",
       "  \u001b[32m121\u001b[39m -> \u001b[32m\".\"\u001b[39m,\n",
       "  \u001b[32m-31\u001b[39m -> \u001b[32m\".\"\u001b[39m,\n",
       "  \u001b[32m-12\u001b[39m -> \u001b[32m\".\"\u001b[39m,\n",
       "..."
      ]
     },
     "execution_count": 58,
     "metadata": {},
     "output_type": "execute_result"
    }
   ],
   "source": [
    "var state = initState\n",
    "for (i <- 1 to 20) state = simGeneration(state)"
   ]
  },
  {
   "cell_type": "code",
   "execution_count": 59,
   "metadata": {},
   "outputs": [
    {
     "data": {
      "text/plain": [
       "\u001b[36mres58\u001b[39m: \u001b[32mInt\u001b[39m = \u001b[32m3280\u001b[39m"
      ]
     },
     "execution_count": 59,
     "metadata": {},
     "output_type": "execute_result"
    }
   ],
   "source": [
    "countPlants(state)"
   ]
  },
  {
   "cell_type": "code",
   "execution_count": null,
   "metadata": {},
   "outputs": [],
   "source": []
  },
  {
   "cell_type": "code",
   "execution_count": null,
   "metadata": {},
   "outputs": [],
   "source": []
  }
 ],
 "metadata": {
  "kernelspec": {
   "display_name": "Scala",
   "language": "scala",
   "name": "scala"
  },
  "language_info": {
   "codemirror_mode": "text/x-scala",
   "file_extension": ".scala",
   "mimetype": "text/x-scala",
   "name": "scala",
   "nbconvert_exporter": "script",
   "version": "2.11.12"
  }
 },
 "nbformat": 4,
 "nbformat_minor": 4
}
